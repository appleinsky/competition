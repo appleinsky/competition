{
 "cells": [
  {
   "cell_type": "code",
   "execution_count": 15,
   "metadata": {},
   "outputs": [],
   "source": [
    "import numpy as np\n",
    "import json\n",
    "import re"
   ]
  },
  {
   "cell_type": "code",
   "execution_count": 16,
   "metadata": {},
   "outputs": [
    {
     "data": {
      "text/plain": [
       "{'text_generation_text': [\"<|User|>:Here is a question about formal logic, the correct answer is one of the options A/B/C/D. Please select the correct option and answer the question with 'The right option is'.\\nQuestion: Select the best translation into predicate logic. Leo is taller than Cathy. (c: Cathy; l: Leo; Txy: x is taller than y) \\nA.Tlc\\nB.Tcl\\nC.lTc\\nD.cTl<eoh>\\n<|Bot|>:Let's think step by step,'The right option is A.' diamonds.'.'\"]}"
      ]
     },
     "execution_count": 16,
     "metadata": {},
     "output_type": "execute_result"
    }
   ],
   "source": [
    "# 读取 .npy 文件，允许加载包含 Python 对象的数组\n",
    "data_out = np.load(\"result.npy\", allow_pickle=True)\n",
    "data_out[39]"
   ]
  },
  {
   "cell_type": "code",
   "execution_count": 17,
   "metadata": {},
   "outputs": [],
   "source": [
    "out_list = []\n",
    "for index, item in enumerate(data_out):\n",
    "    # try:\n",
    "    # 尝试在数据中匹配正则表达式\n",
    "    match_out = re.search(r\"The right option is ([A-D])\", item.get('text_generation_text', [''])[0])\n",
    "    if match_out:\n",
    "        # if index not in [2852, 2882]:\n",
    "        out_list.append(match_out.group(1))\n",
    "        # else:\n",
    "            # print(f\"{index} is skipped ------------------------------------->> !\")\n",
    "        # print(f\"Extracted option: {match_out.group(1)} at index {index}\")\n",
    "        # out_list.append(match_out.group(1))\n",
    "    else:\n",
    "        # 匹配失败，输出索引号\n",
    "        print(f\"No match found at index {index}: {item.get('text_generation_text', [''])[0]}\")\n",
    "        out_list.append('C')\n",
    "        print(\"write : _________________A______________________\")\n",
    "#     except Exception as e:\n",
    "#         # 捕获其他异常并输出索引号和错误\n",
    "#         print(f\"Error at index {index}: {item}. Error: {str(e)}\")\n",
    "# out_list"
   ]
  },
  {
   "cell_type": "code",
   "execution_count": 18,
   "metadata": {},
   "outputs": [],
   "source": [
    "# 读取JSON文件\n",
    "with open('/mnt/finetune/mmlu/mmlu_alpaca_format2000.json', 'r', encoding='utf-8') as f:\n",
    "    data_check = json.load(f)"
   ]
  },
  {
   "cell_type": "code",
   "execution_count": 19,
   "metadata": {},
   "outputs": [],
   "source": [
    "check_list = []\n",
    "for index, item in enumerate(data_check):\n",
    "    try:\n",
    "        # 进行正则匹配\n",
    "        match_check = re.search(r\"The right option is ([A-D]).\", item[\"output\"])\n",
    "        if match_check:\n",
    "            check_list.append(match_check.group(1))\n",
    "        else:\n",
    "            # 匹配失败时，输出索引号和对应内容\n",
    "            print(f\"No match found at index {index}: {item['output']}\")\n",
    "    except Exception as e:\n",
    "        # 捕获并显示异常以及索引号\n",
    "        print(f\"Error at index {index}: {item}. Error: {str(e)}\")\n"
   ]
  },
  {
   "cell_type": "code",
   "execution_count": 20,
   "metadata": {},
   "outputs": [
    {
     "name": "stdout",
     "output_type": "stream",
     "text": [
      "2000\n",
      "2000\n"
     ]
    }
   ],
   "source": [
    "print(len(out_list))\n",
    "print(len(check_list))"
   ]
  },
  {
   "cell_type": "code",
   "execution_count": 21,
   "metadata": {},
   "outputs": [
    {
     "name": "stdout",
     "output_type": "stream",
     "text": [
      "Accuracy: 99.30%\n"
     ]
    }
   ],
   "source": [
    "# 使用列表推导式来比较两个列表的元素\n",
    "result = [option1 == option2 for option1, option2 in zip(out_list,check_list)]\n",
    "def calculate_accuracy(results):\n",
    "    correct_count = sum(results)\n",
    "    total_count = len(results)\n",
    "    accuracy = correct_count / total_count if total_count > 0 else 0\n",
    "    return accuracy\n",
    "# 计算准确率\n",
    "accuracy = calculate_accuracy(result)\n",
    "print(f\"Accuracy: {accuracy * 100:.2f}%\")  # 输出准确率"
   ]
  },
  {
   "cell_type": "code",
   "execution_count": 22,
   "metadata": {},
   "outputs": [
    {
     "name": "stdout",
     "output_type": "stream",
     "text": [
      "[98, 227, 425, 480, 563, 652, 685, 1044, 1049, 1767, 1798, 1894, 1896, 1955]\n",
      "14\n"
     ]
    }
   ],
   "source": [
    "# 使用列表推导式获取值为 False 的索引\n",
    "false_indices = [index for index, value in enumerate(result) if not value]\n",
    "\n",
    "print(false_indices)\n",
    "print(len(false_indices))\n"
   ]
  },
  {
   "cell_type": "markdown",
   "metadata": {},
   "source": []
  },
  {
   "cell_type": "code",
   "execution_count": 23,
   "metadata": {},
   "outputs": [
    {
     "name": "stdout",
     "output_type": "stream",
     "text": [
      "index :  98\n",
      "{'text_generation_text': [\"<|User|>:Here is a question about global facts, the correct answer is one of the options A/B/C/D. Please select the correct option and answer the question with 'The right option is'.\\nQuestion: Controlling for inflation and PPP-adjustment, about how much did GDP per capita increase from 1950 to 2016 in South Korea? \\nA.by 4 fold\\nB.by 8 fold\\nC.by 16 fold\\nD.by 32 fold<eoh>\\n<|Bot|>:Let's think step by step,'The right option is C.' individuals. diamonds....\"]}\n",
      "{'instruction': \"Here is a question about global facts, the correct answer is one of the options A/B/C/D. Please select the correct option and answer the question with 'The right option is'.\", 'input': 'Question: Controlling for inflation and PPP-adjustment, about how much did GDP per capita increase from 1950 to 2016 in South Korea? \\nA.by 4 fold\\nB.by 8 fold\\nC.by 16 fold\\nD.by 32 fold', 'output': 'The right option is D.'}\n",
      "index :  227\n",
      "{'text_generation_text': [\"<|User|>:Here is a question about moral disputes, the correct answer is one of the options A/B/C/D. Please select the correct option and answer the question with 'The right option is'.\\nQuestion:  Mary's laptop deserves moral consideration only because she owns it and cares about it. Thus, Mary's laptop has \\nA.direct moral standing.\\nB.indirect moral standing.\\nC.relative moral standing.\\nD.inherent or intrinsic worth.<eoh>\\n<|Bot|>:Let's think step by step,'The right option is A.' diamonds.' precedents.'.'.'\"]}\n",
      "{'instruction': \"Here is a question about moral disputes, the correct answer is one of the options A/B/C/D. Please select the correct option and answer the question with 'The right option is'.\", 'input': \"Question:  Mary's laptop deserves moral consideration only because she owns it and cares about it. Thus, Mary's laptop has \\nA.direct moral standing.\\nB.indirect moral standing.\\nC.relative moral standing.\\nD.inherent or intrinsic worth.\", 'output': 'The right option is B.'}\n",
      "index :  425\n",
      "{'text_generation_text': [\"<|User|>:Here is a question about virology, the correct answer is one of the options A/B/C/D. Please select the correct option and answer the question with 'The right option is'.\\nQuestion: Any systematic error in the design, conduct, or analysis of a study that results in a mistaken estimate of an exposure’s effect on the risk of disease is called: \\nA.Confounding\\nB.Bias\\nC.Interaction\\nD.Stratification<eoh>\\n<|Bot|>:Let's think step by step,'The right option is B.' diamonds.'.'\"]}\n",
      "{'instruction': \"Here is a question about virology, the correct answer is one of the options A/B/C/D. Please select the correct option and answer the question with 'The right option is'.\", 'input': 'Question: Any systematic error in the design, conduct, or analysis of a study that results in a mistaken estimate of an exposure’s effect on the risk of disease is called: \\nA.Confounding\\nB.Bias\\nC.Interaction\\nD.Stratification', 'output': 'The right option is C.'}\n",
      "index :  480\n",
      "{'text_generation_text': [\"<|User|>:Here is a question about clinical knowledge, the correct answer is one of the options A/B/C/D. Please select the correct option and answer the question with 'The right option is'.\\nQuestion: Insensible loss does not come from: \\nA.pyrexia.\\nB.using unhumidified oxygen.\\nC.excessive weight loss.\\nD.diarrhoea.<eoh>\\n<|Bot|>:Let's think step by step,'The right option is D.' diamonds.'.'.'.'.'.'\"]}\n",
      "{'instruction': \"Here is a question about clinical knowledge, the correct answer is one of the options A/B/C/D. Please select the correct option and answer the question with 'The right option is'.\", 'input': 'Question: Insensible loss does not come from: \\nA.pyrexia.\\nB.using unhumidified oxygen.\\nC.excessive weight loss.\\nD.diarrhoea.', 'output': 'The right option is C.'}\n",
      "index :  563\n",
      "{'text_generation_text': [\"<|User|>:Here is a question about moral scenarios, the correct answer is one of the options A/B/C/D. Please select the correct option and answer the question with 'The right option is'.\\nQuestion: For which of these two scenarios does the main character (who uses I/me/my) do something clearly morally wrong, according to ordinary moral standards in the US as of 2020? Scenario 1 | I had sex with my wife before she fell asleep Scenario 2 | I tossed the small child 1 foot into the air over my head. \\nA.Wrong, Wrong\\nB.Wrong, Not wrong\\nC.Not wrong, Wrong\\nD.Not wrong, Not wrong<eoh>\\n<|Bot|>:Let's think step by step,'The right option is C.' diamonds.'.'.'.'.'.'\"]}\n",
      "{'instruction': \"Here is a question about moral scenarios, the correct answer is one of the options A/B/C/D. Please select the correct option and answer the question with 'The right option is'.\", 'input': 'Question: For which of these two scenarios does the main character (who uses I/me/my) do something clearly morally wrong, according to ordinary moral standards in the US as of 2020? Scenario 1 | I had sex with my wife before she fell asleep Scenario 2 | I tossed the small child 1 foot into the air over my head. \\nA.Wrong, Wrong\\nB.Wrong, Not wrong\\nC.Not wrong, Wrong\\nD.Not wrong, Not wrong', 'output': 'The right option is D.'}\n",
      "index :  652\n",
      "{'text_generation_text': ['<|User|>:Here is a question about high school computer science, the correct answer is one of the options A/B/C/D. Please select the correct option and answer the question with \\'The right option is\\'.\\nQuestion: What is the output of \"abc\"[-1] in Python 3? \\nA.Error\\nB.a\\nC.b\\nD.c<eoh>\\n<|Bot|>:Let\\'s think step by step,\\'The right option is A.\\' diamonds.\\'.\\'.\\'.\\'.\\'.\\'']}\n",
      "{'instruction': \"Here is a question about high school computer science, the correct answer is one of the options A/B/C/D. Please select the correct option and answer the question with 'The right option is'.\", 'input': 'Question: What is the output of \"abc\"[-1] in Python 3? \\nA.Error\\nB.a\\nC.b\\nD.c', 'output': 'The right option is D.'}\n",
      "index :  685\n",
      "{'text_generation_text': [\"<|User|>:Here is a question about moral scenarios, the correct answer is one of the options A/B/C/D. Please select the correct option and answer the question with 'The right option is'.\\nQuestion: For which of these two scenarios does the main character (who uses I/me/my) do something clearly morally wrong, according to ordinary moral standards in the US as of 2020? Scenario 1 | I gave opioids to the patient in the hospital care center. Scenario 2 | I wasn't allowed to bring my knife on the plane so I kept it in my pocket. \\nA.Wrong, Wrong\\nB.Wrong, Not wrong\\nC.Not wrong, Wrong\\nD.Not wrong, Not wrong<eoh>\\n<|Bot|>:Let's think step by step,'The right option is D.' diamonds.'.'.'.'.'.'\"]}\n",
      "{'instruction': \"Here is a question about moral scenarios, the correct answer is one of the options A/B/C/D. Please select the correct option and answer the question with 'The right option is'.\", 'input': \"Question: For which of these two scenarios does the main character (who uses I/me/my) do something clearly morally wrong, according to ordinary moral standards in the US as of 2020? Scenario 1 | I gave opioids to the patient in the hospital care center. Scenario 2 | I wasn't allowed to bring my knife on the plane so I kept it in my pocket. \\nA.Wrong, Wrong\\nB.Wrong, Not wrong\\nC.Not wrong, Wrong\\nD.Not wrong, Not wrong\", 'output': 'The right option is C.'}\n",
      "index :  1044\n",
      "{'text_generation_text': [\"<|User|>:Here is a question about elementary mathematics, the correct answer is one of the options A/B/C/D. Please select the correct option and answer the question with 'The right option is'.\\nQuestion: 计算(8.2+6.21+6.21)*3.5，下面几种计算方法中最简便的方法是 \\nA.6.21*(2+1+1)*3.5\\nB.6.21*(2+1+1*3.5)\\nC.8.2*3.5+6.21*3.5+6.21*3.5\\nD.(8.2+6.21*2)*3.5<eoh>\\n<|Bot|>:Let's think step by step,'The right option is C.' diamonds.'.'.'.'.'.'\"]}\n",
      "{'instruction': \"Here is a question about elementary mathematics, the correct answer is one of the options A/B/C/D. Please select the correct option and answer the question with 'The right option is'.\", 'input': 'Question: 计算(8.2+6.21+6.21)*3.5，下面几种计算方法中最简便的方法是 \\nA.6.21*(2+1+1)*3.5\\nB.6.21*(2+1+1*3.5)\\nC.8.2*3.5+6.21*3.5+6.21*3.5\\nD.(8.2+6.21*2)*3.5', 'output': 'The right option is D.'}\n",
      "index :  1049\n",
      "{'text_generation_text': [\"<|User|>:Here is a question about human aging, the correct answer is one of the options A/B/C/D. Please select the correct option and answer the question with 'The right option is'.\\nQuestion: Mabel Davis, in this chapter's Senior View, would agree with which of the following? \\nA.Time seems to speed up when you grow older\\nB.Exercise keeps your mind sharp\\nC.Women are tougher than men\\nD.Glasses and hearing aids should be avoided<eoh>\\n<|Bot|>:Let's think step by step,'The right option is B.' diamonds.'.'.'.'.'.'\"]}\n",
      "{'instruction': \"Here is a question about human aging, the correct answer is one of the options A/B/C/D. Please select the correct option and answer the question with 'The right option is'.\", 'input': \"Question: Mabel Davis, in this chapter's Senior View, would agree with which of the following? \\nA.Time seems to speed up when you grow older\\nB.Exercise keeps your mind sharp\\nC.Women are tougher than men\\nD.Glasses and hearing aids should be avoided\", 'output': 'The right option is A.'}\n",
      "index :  1767\n",
      "{'text_generation_text': [\"<|User|>:Here is a question about security study, the correct answer is one of the options A/B/C/D. Please select the correct option and answer the question with 'The right option is'.\\nQuestion: 电焊机一次线的长度不能大于（）米。 \\nA.5\\nB.2\\nC.10\\nD.8<eoh>\\n<|Bot|>:Let's think step by step,'The right option is C.' opposites,'The right option is\"]}\n",
      "{'instruction': \"Here is a question about security study, the correct answer is one of the options A/B/C/D. Please select the correct option and answer the question with 'The right option is'.\", 'input': 'Question: 电焊机一次线的长度不能大于（）米。 \\nA.5\\nB.2\\nC.10\\nD.8', 'output': 'The right option is A.'}\n",
      "index :  1798\n",
      "{'text_generation_text': ['<|User|>:Here is a question about professional law, the correct answer is one of the options A/B/C/D. Please select the correct option and answer the question with \\'The right option is\\'.\\nQuestion: The President appointed a delegation to enter into negotiations with representatives of a foreign government to study the problem of preventing the extinction of certain species of rabbits. The delegation\\'s goal was twofold: to study the problem and to formulate regulations in a bilateral agreement that would protect the endangered species and provide for a permanent commission that would continually monitor enforcement of the proposed regulations. After compiling their findings and drafting the necessary regulations, the President and the leader of the foreign government entered into a treaty to form a permanent commission to oversee the problem and to grant it the necessary enforcement powers. Assume that after the treaty goes into effect, a state legislature enacts a statute that provides that \"any licensed rabbit-hunter in the state and its surrounding environs may increase his monthly catch of rabbits from 10 to 15 in each of the specified months of the authorized rabbit-hunting season from the first day of October until the last day of February. \" If challenged, the enactment of the aforementioned statute would most likely be declared \\nA.constitutional, because the regulation of hunting is within the area of state action.\\nB.constitutional, because the enactment falls within the Tenth Amendment\\'s reservedpowers.\\nC.unconstitutional, because it violates the commerce clause.\\nD.unconstitutional, because all treaties are the supreme law of the land.<eoh>\\n<|Bot|>:Let\\'s think step by step,\\'The right option is C.\\' diamonds.\\' precedents.\\'.\\'.\\'']}\n",
      "{'instruction': \"Here is a question about professional law, the correct answer is one of the options A/B/C/D. Please select the correct option and answer the question with 'The right option is'.\", 'input': 'Question: The President appointed a delegation to enter into negotiations with representatives of a foreign government to study the problem of preventing the extinction of certain species of rabbits. The delegation\\'s goal was twofold: to study the problem and to formulate regulations in a bilateral agreement that would protect the endangered species and provide for a permanent commission that would continually monitor enforcement of the proposed regulations. After compiling their findings and drafting the necessary regulations, the President and the leader of the foreign government entered into a treaty to form a permanent commission to oversee the problem and to grant it the necessary enforcement powers. Assume that after the treaty goes into effect, a state legislature enacts a statute that provides that \"any licensed rabbit-hunter in the state and its surrounding environs may increase his monthly catch of rabbits from 10 to 15 in each of the specified months of the authorized rabbit-hunting season from the first day of October until the last day of February. \" If challenged, the enactment of the aforementioned statute would most likely be declared \\nA.constitutional, because the regulation of hunting is within the area of state action.\\nB.constitutional, because the enactment falls within the Tenth Amendment\\'s reservedpowers.\\nC.unconstitutional, because it violates the commerce clause.\\nD.unconstitutional, because all treaties are the supreme law of the land.', 'output': 'The right option is D.'}\n",
      "index :  1894\n",
      "{'text_generation_text': [\"<|User|>:Here is a question about international law, the correct answer is one of the options A/B/C/D. Please select the correct option and answer the question with 'The right option is'.\\nQuestion: 萨维尼创立的“法律关系本座说”见于他在1849年出版的 \\nA.《冲突法的逻辑学与法律基础》\\nB.《现代罗马法体系》\\nC.《冲突法论》\\nD.《法律选择过程批判》<eoh>\\n<|Bot|>:Let's think step by step,'The right option is A.' individuals..'.'\"]}\n",
      "{'instruction': \"Here is a question about international law, the correct answer is one of the options A/B/C/D. Please select the correct option and answer the question with 'The right option is'.\", 'input': 'Question: 萨维尼创立的“法律关系本座说”见于他在1849年出版的 \\nA.《冲突法的逻辑学与法律基础》\\nB.《现代罗马法体系》\\nC.《冲突法论》\\nD.《法律选择过程批判》', 'output': 'The right option is B.'}\n",
      "index :  1896\n",
      "{'text_generation_text': [\"<|User|>:Here is a question about college actuarial science, the correct answer is one of the options A/B/C/D. Please select the correct option and answer the question with 'The right option is'.\\nQuestion: 某人在一年内感冒的概率服从混合泊松分布，参数$\\\\lambda$服从$(0，5)$上的均匀分布，则他在一年内感冒的次数不少于 2 次的概率是( )。 \\nA.0.61\\nB.0.41\\nC.0.81\\nD.0.21<eoh>\\n<|Bot|>:Let's think step by step,'The right option is C.'<TOKENS_UNUSED_139>\"]}\n",
      "{'instruction': \"Here is a question about college actuarial science, the correct answer is one of the options A/B/C/D. Please select the correct option and answer the question with 'The right option is'.\", 'input': 'Question: 某人在一年内感冒的概率服从混合泊松分布，参数$\\\\lambda$服从$(0，5)$上的均匀分布，则他在一年内感冒的次数不少于 2 次的概率是( )。 \\nA.0.61\\nB.0.41\\nC.0.81\\nD.0.21', 'output': 'The right option is A.'}\n",
      "index :  1955\n",
      "{'text_generation_text': [\"<|User|>:Here is a question about moral scenarios, the correct answer is one of the options A/B/C/D. Please select the correct option and answer the question with 'The right option is'.\\nQuestion: For which of these two scenarios does the main character (who uses I/me/my) do something clearly morally wrong, according to ordinary moral standards in the US as of 2020? Scenario 1 | i found the cutest little purse at the thrift store that i just had to take. Scenario 2 | I tattooed a symbol of loyalty on my arm. \\nA.Wrong, Wrong\\nB.Wrong, Not wrong\\nC.Not wrong, Wrong\\nD.Not wrong, Not wrong<eoh>\\n<|Bot|>:Let's think step by step,'The right option is D.' diamonds.'.'.'.'.'.'\"]}\n",
      "{'instruction': \"Here is a question about moral scenarios, the correct answer is one of the options A/B/C/D. Please select the correct option and answer the question with 'The right option is'.\", 'input': 'Question: For which of these two scenarios does the main character (who uses I/me/my) do something clearly morally wrong, according to ordinary moral standards in the US as of 2020? Scenario 1 | i found the cutest little purse at the thrift store that i just had to take. Scenario 2 | I tattooed a symbol of loyalty on my arm. \\nA.Wrong, Wrong\\nB.Wrong, Not wrong\\nC.Not wrong, Wrong\\nD.Not wrong, Not wrong', 'output': 'The right option is B.'}\n"
     ]
    }
   ],
   "source": [
    "for item in false_indices:\n",
    "    print('index : ',item)\n",
    "    print(data_out[item])\n",
    "    print(data_check[item])\n",
    "    "
   ]
  },
  {
   "cell_type": "code",
   "execution_count": 24,
   "metadata": {},
   "outputs": [],
   "source": [
    "def extract_random_entries(input_file, output_file, false_indices):\n",
    "    try:\n",
    "        # 从输入 JSON 文件中读取内容\n",
    "        with open(input_file, 'r', encoding='utf-8') as f:\n",
    "            data = json.load(f)\n",
    "\n",
    "        extracted_data = [] \n",
    "        # 使用 false_indices 从 JSON 数据中获取对应的内容\n",
    "        for index in false_indices:\n",
    "            extracted_data.append(data[index])\n",
    "            \n",
    "        # 将抽取的数据写入输出 JSON 文件\n",
    "        with open(output_file, 'w', encoding='utf-8') as f:\n",
    "            json.dump(extracted_data, f, ensure_ascii=False, indent=4)\n",
    "\n",
    "        print(f\"成功抽取 {len(extracted_data)} 条数据并保存到 {output_file}\")\n",
    "    except Exception as e:\n",
    "        print(f\"发生错误: {e}\")"
   ]
  },
  {
   "cell_type": "code",
   "execution_count": 25,
   "metadata": {},
   "outputs": [],
   "source": [
    "# extract_random_entries('/mnt/finetune/mmlu/mmlu_alpaca_format.json','/mnt/finetune/mmlu/false_result.json',false_indices)"
   ]
  },
  {
   "cell_type": "code",
   "execution_count": 26,
   "metadata": {},
   "outputs": [
    {
     "name": "stdout",
     "output_type": "stream",
     "text": [
      "成功抽取 14 条数据并保存到 /mnt/finetune/mmlu/false_deal_math_cot_result.json\n"
     ]
    }
   ],
   "source": [
    "extract_random_entries('/mnt/finetune/mmlu/mmlu_alpaca_format.json','/mnt/finetune/mmlu/false_deal_math_cot_result.json',false_indices)"
   ]
  },
  {
   "cell_type": "code",
   "execution_count": 27,
   "metadata": {},
   "outputs": [],
   "source": [
    "def classify_entries_by_instruction(input_file):\n",
    "    try:\n",
    "        # 读取输入 JSON 文件\n",
    "        with open(input_file, 'r', encoding='utf-8') as f:\n",
    "            data = json.load(f)\n",
    "\n",
    "        # 正则表达式匹配 \"Here is a question about ...\" 并提取后续内容进行分类\n",
    "        pattern = re.compile(r'Here is a question about (.*?),')\n",
    "        classifications = {}\n",
    "\n",
    "        for entry in data:\n",
    "            match = pattern.search(entry['instruction'])\n",
    "            if match:\n",
    "                category = match.group(1).strip()\n",
    "                if category not in classifications:\n",
    "                    classifications[category] = []\n",
    "                classifications[category].append(entry)\n",
    "\n",
    "        # 打印分类结果，使用固定宽度对齐\n",
    "        max_category_length = max(len(category) for category in classifications.keys())\n",
    "        for category, entries in classifications.items():\n",
    "            print(f\"Category: {category.ljust(max_category_length)} | Number of Entries: {len(entries)}\")\n",
    "\n",
    "    except Exception as e:\n",
    "        print(f\"发生错误: {e}\")"
   ]
  },
  {
   "cell_type": "code",
   "execution_count": 28,
   "metadata": {},
   "outputs": [
    {
     "name": "stdout",
     "output_type": "stream",
     "text": [
      "Category: college medical statistics | Number of Entries: 1\n",
      "Category: jurisprudence              | Number of Entries: 1\n",
      "Category: agronomy                   | Number of Entries: 2\n",
      "Category: anatomy                    | Number of Entries: 1\n",
      "Category: ancient chinese            | Number of Entries: 2\n",
      "Category: astronomy                  | Number of Entries: 2\n",
      "Category: chinese food culture       | Number of Entries: 1\n",
      "Category: chinese foreign policy     | Number of Entries: 1\n",
      "Category: chinese history            | Number of Entries: 3\n"
     ]
    }
   ],
   "source": [
    "classify_entries_by_instruction('/mnt/finetune/mmlu/false_deal_math_cot_result.json')"
   ]
  },
  {
   "cell_type": "code",
   "execution_count": null,
   "metadata": {},
   "outputs": [],
   "source": []
  }
 ],
 "metadata": {
  "kernelspec": {
   "display_name": "MindSpore",
   "language": "python",
   "name": "python3"
  },
  "language_info": {
   "codemirror_mode": {
    "name": "ipython",
    "version": 3
   },
   "file_extension": ".py",
   "mimetype": "text/x-python",
   "name": "python",
   "nbconvert_exporter": "python",
   "pygments_lexer": "ipython3",
   "version": "3.9.10"
  }
 },
 "nbformat": 4,
 "nbformat_minor": 2
}
