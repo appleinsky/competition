{
 "cells": [
  {
   "cell_type": "code",
   "execution_count": 1,
   "metadata": {},
   "outputs": [],
   "source": [
    "import json"
   ]
  },
  {
   "cell_type": "code",
   "execution_count": 8,
   "metadata": {},
   "outputs": [],
   "source": [
    "import json\n",
    "\n",
    "def add_prefix_to_output(input_file, output_file):\n",
    "    # 读取 JSON 数据\n",
    "    with open(input_file, 'r', encoding='utf-8') as file:\n",
    "        data = json.load(file)\n",
    "\n",
    "    # 遍历每个字典，修改 'output' 字段\n",
    "    for item in data:\n",
    "        if 'output' in item and 'input' in item and 'instruction' in item:\n",
    "            # 添加前缀  First, break down and understand the question. Let's proceed step by step,\n",
    "                item['output'] = \"Let's think step by step,\" + item['output']\n",
    "                # 匹配选项并替换 output 中的内容\n",
    "                options = item['input'].split('\\n')[1:]\n",
    "                answer = item['output'].split()[-1].replace('.', '')\n",
    "                # print(answer)\n",
    "                for option in options:\n",
    "                    if option.startswith(answer):\n",
    "                        if answer in option:\n",
    "                            item['output'] = item['output'].replace(f'The right option is {answer}.', f\"'The right option is {option}'\")\n",
    "                        break\n",
    "\n",
    "    # 将修改后的数据保存回文件\n",
    "    with open(output_file, 'w', encoding='utf-8') as file:\n",
    "        json.dump(data, file, ensure_ascii=False, indent=4)\n",
    "\n",
    "    print(f\"修改完成，已保存到 '{output_file}'\")\n"
   ]
  },
  {
   "cell_type": "code",
   "execution_count": 9,
   "metadata": {},
   "outputs": [
    {
     "name": "stdout",
     "output_type": "stream",
     "text": [
      "修改完成，已保存到 '/mnt/finetune/mmlu/mmlu_zero_shot.json'\n"
     ]
    }
   ],
   "source": [
    "add_prefix_to_output('/mnt/finetune/mmlu/mmlu_alpaca_format.json', '/mnt/finetune/mmlu/mmlu_zero_shot.json')"
   ]
  },
  {
   "cell_type": "code",
   "execution_count": 2,
   "metadata": {},
   "outputs": [],
   "source": [
    "def add_prefix_to_output(input_file, output_file, target_instructions):\n",
    "    # 读取 JSON 数据\n",
    "    with open(input_file, 'r', encoding='utf-8') as file:\n",
    "        data = json.load(file)\n",
    "\n",
    "    # 遍历每个字典，修改 'output' 字段\n",
    "    for item in data:\n",
    "        if 'output' in item and 'input' in item and 'instruction' in item:\n",
    "            # 只对符合 target_instructions 中类型的问题进行处理\n",
    "            if any(keyword in item['instruction'] for keyword in target_instructions):\n",
    "                # 添加前缀  First, break down and understand the question. Let's proceed step by step,\n",
    "                item['output'] = \"Let's think step by step, \" + item['output']\n",
    "                # 匹配选项并替换 output 中的内容\n",
    "                options = item['input'].split('\\n')[1:]\n",
    "                answer = item['output'].split()[-1].replace('.', '')\n",
    "                # print(answer)\n",
    "                for option in options:\n",
    "                    if option.startswith(answer):\n",
    "                        if answer in option:\n",
    "                            item['output'] = item['output'].replace(f'The right option is {answer}.', f\"'The right option is {option}'\")\n",
    "                        break\n",
    "\n",
    "    # 将修改后的数据保存回文件\n",
    "    with open(output_file, 'w', encoding='utf-8') as file:\n",
    "        json.dump(data, file, ensure_ascii=False, indent=4)\n",
    "\n",
    "    print(f\"修改完成，已保存到 '{output_file}'\")\n",
    "\n"
   ]
  },
  {
   "cell_type": "code",
   "execution_count": 3,
   "metadata": {},
   "outputs": [
    {
     "name": "stdout",
     "output_type": "stream",
     "text": [
      "修改完成，已保存到 '/mnt/finetune/mmlu/mmlu_math_cot.json'\n"
     ]
    }
   ],
   "source": [
    "# 调用函数，指定需要修改的类型\n",
    "target_instructions = ['elementary mathematics', 'college mathematics', 'high school mathematics','formal logic', 'abstract algebra', 'college actuarial science' ]\n",
    "add_prefix_to_output('/mnt/finetune/mmlu/mmlu_alpaca_format.json','/mnt/finetune/mmlu/mmlu_math_cot.json',target_instructions)"
   ]
  },
  {
   "cell_type": "code",
   "execution_count": null,
   "metadata": {},
   "outputs": [],
   "source": [
    "# \"Here is a question about moral scenarios. The correct answer is one of the options A/B/C/D. Please solve it by following these steps: (1) Carefully read the scenario to understand the moral dilemmas presented. (2) Identify the key ethical principles or values that are in conflict (e.g., honesty, respect for others' property, harm). (3) Analyze the actions taken by the main character in each scenario and evaluate whether these actions align with or violate ordinary moral standards. (4) Consider the context and cultural norms of the US as of 2020 to determine if the action is morally acceptable. (5) Choose the answer that best aligns with widely accepted moral standards and provide it in the format: 'The right option is'.\""
   ]
  }
 ],
 "metadata": {
  "kernelspec": {
   "display_name": "MindSpore",
   "language": "python",
   "name": "python3"
  },
  "language_info": {
   "codemirror_mode": {
    "name": "ipython",
    "version": 3
   },
   "file_extension": ".py",
   "mimetype": "text/x-python",
   "name": "python",
   "nbconvert_exporter": "python",
   "pygments_lexer": "ipython3",
   "version": "3.9.10"
  }
 },
 "nbformat": 4,
 "nbformat_minor": 2
}
